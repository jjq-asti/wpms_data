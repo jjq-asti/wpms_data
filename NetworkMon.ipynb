{
 "cells": [
  {
   "cell_type": "code",
   "execution_count": 132,
   "id": "b2fedea3",
   "metadata": {},
   "outputs": [],
   "source": [
    "import numpy as np\n",
    "import pandas as pd\n",
    "import json\n",
    "from datetime import timedelta\n",
    "import requests"
   ]
  },
  {
   "cell_type": "code",
   "execution_count": 133,
   "id": "f0d5c85f",
   "metadata": {},
   "outputs": [],
   "source": [
    "DATA_URL = \"http://ec2-108-137-45-5.ap-southeast-3.compute.amazonaws.com/api/netmon/rfcdata/\""
   ]
  },
  {
   "cell_type": "code",
   "execution_count": 134,
   "id": "d640df15",
   "metadata": {},
   "outputs": [],
   "source": [
    "res = requests.get(DATA_URL)\n",
    "wpms_json = res.json()"
   ]
  },
  {
   "cell_type": "code",
   "execution_count": 135,
   "id": "3ed85d5d",
   "metadata": {},
   "outputs": [],
   "source": [
    "with open(\"data.json\", \"w\") as jsonfile:\n",
    "    json.dump(wpms_json,jsonfile)"
   ]
  },
  {
   "cell_type": "code",
   "execution_count": 147,
   "id": "5a1fb795",
   "metadata": {},
   "outputs": [],
   "source": [
    "df = pd.read_json(\"data.json\")"
   ]
  },
  {
   "cell_type": "code",
   "execution_count": 148,
   "id": "f74dc339",
   "metadata": {},
   "outputs": [],
   "source": [
    "df['device'] = df['device'].apply(lambda x: x['name'])"
   ]
  },
  {
   "cell_type": "code",
   "execution_count": 149,
   "id": "f33d336d",
   "metadata": {},
   "outputs": [],
   "source": [
    "def calculate_seconds(dt):\n",
    "    if not dt.minute % 10:\n",
    "        return dt.second\n",
    "    return (dt.minute % 10) * 60 + dt.second"
   ]
  },
  {
   "cell_type": "code",
   "execution_count": 150,
   "id": "766df4ef",
   "metadata": {},
   "outputs": [],
   "source": [
    "df['timestamp'] = df['timestamp'].apply(lambda d: d - timedelta(seconds=calculate_seconds(d)))"
   ]
  },
  {
   "cell_type": "code",
   "execution_count": 168,
   "id": "9823e9b3",
   "metadata": {},
   "outputs": [],
   "source": [
    "data = df[['device','mode','timestamp', 'rtt', 'bb', 'bdp', 'rwnd', 'rcvbuf_actual', 'actual_thpt', 'tcp_efficiency']]"
   ]
  },
  {
   "cell_type": "code",
   "execution_count": 169,
   "id": "81d3a411",
   "metadata": {},
   "outputs": [],
   "source": [
    "data = data[data['timestamp'] >= '2022-08-03']"
   ]
  },
  {
   "cell_type": "code",
   "execution_count": 170,
   "id": "f946aca4",
   "metadata": {},
   "outputs": [],
   "source": [
    "groups = data.groupby(['device', 'mode'])"
   ]
  },
  {
   "cell_type": "code",
   "execution_count": 174,
   "id": "202a1e95",
   "metadata": {},
   "outputs": [
    {
     "data": {
      "text/plain": [
       "device                     RPI Malvar\n",
       "mode                          reverse\n",
       "timestamp         2022-08-06 15:20:00\n",
       "rtt                          0.895832\n",
       "bb                           49361567\n",
       "bdp                          38486317\n",
       "rwnd                          7848960\n",
       "rcvbuf_actual                15697920\n",
       "actual_thpt                  50481905\n",
       "tcp_efficiency                  100.0\n",
       "dtype: object"
      ]
     },
     "execution_count": 174,
     "metadata": {},
     "output_type": "execute_result"
    }
   ],
   "source": [
    "data[data['actual_thpt'] <= 60000000 ].max()"
   ]
  },
  {
   "cell_type": "code",
   "execution_count": 167,
   "id": "cce91c72",
   "metadata": {},
   "outputs": [],
   "source": [
    "with open('wpms_data_all.csv', 'w') as wpmscsv:\n",
    "    data.to_csv(wpmscsv)"
   ]
  },
  {
   "cell_type": "code",
   "execution_count": 181,
   "id": "9e9ef5b1",
   "metadata": {},
   "outputs": [],
   "source": [
    "malvar_forward = groups.get_group(('RPI Malvar','forward'))\n",
    "malvar_reverse = groups.get_group(('RPI Malvar','reverse'))"
   ]
  },
  {
   "cell_type": "code",
   "execution_count": 182,
   "id": "f7115a59",
   "metadata": {},
   "outputs": [],
   "source": [
    "cuenca_forward = groups.get_group(('RPI Cuenca','forward'))\n",
    "cuenca_reverse = groups.get_group(('RPI Cuenca','reverse'))"
   ]
  },
  {
   "cell_type": "code",
   "execution_count": 183,
   "id": "a13a4e18",
   "metadata": {},
   "outputs": [],
   "source": [
    "with open('malvar_forward.csv', 'w')as malvarforwardcsv:\n",
    "    malvar_forward.to_csv(malvarforwardcsv)"
   ]
  },
  {
   "cell_type": "code",
   "execution_count": 184,
   "id": "9102ee04",
   "metadata": {},
   "outputs": [],
   "source": [
    "with open('malvar_reverse.csv', 'w')as malvarreversecsv:\n",
    "    malvar_reverse.to_csv(malvarreversecsv)"
   ]
  },
  {
   "cell_type": "code",
   "execution_count": 185,
   "id": "3fddbf89",
   "metadata": {},
   "outputs": [],
   "source": [
    "with open('cuenca_forward.csv', 'w')as cuencaforwardcsv:\n",
    "    cuenca_forward.to_csv(cuencaforwardcsv)"
   ]
  },
  {
   "cell_type": "code",
   "execution_count": 186,
   "id": "1e8f2d00",
   "metadata": {},
   "outputs": [],
   "source": [
    "with open('cuenca_reverse.csv', 'w')as cuencareversecsv:\n",
    "    cuenca_reverse.to_csv(cuencareversecsv)"
   ]
  },
  {
   "cell_type": "code",
   "execution_count": null,
   "id": "6415029e",
   "metadata": {},
   "outputs": [],
   "source": []
  }
 ],
 "metadata": {
  "kernelspec": {
   "display_name": "Python 3 (ipykernel)",
   "language": "python",
   "name": "python3"
  },
  "language_info": {
   "codemirror_mode": {
    "name": "ipython",
    "version": 3
   },
   "file_extension": ".py",
   "mimetype": "text/x-python",
   "name": "python",
   "nbconvert_exporter": "python",
   "pygments_lexer": "ipython3",
   "version": "3.10.5"
  }
 },
 "nbformat": 4,
 "nbformat_minor": 5
}
